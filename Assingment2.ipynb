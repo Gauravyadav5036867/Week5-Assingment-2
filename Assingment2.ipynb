{
 "cells": [
  {
   "cell_type": "code",
   "execution_count": null,
   "id": "1550c20c-6fb3-4564-b32a-7c9b61c49116",
   "metadata": {},
   "outputs": [],
   "source": [
    "#Question 1\n",
    "\n",
    "When creating a custom exception in Python, it is important to inherit from the built-in Exception class (or one of its subclasses). This practice ensures that your custom exception behaves correctly within Python's exception handling framework.\n",
    "\n",
    "Consistency: Inheriting from Exception ensures that your custom exception integrates seamlessly with Python's built-in exception handling mechanisms. This makes it consistent with other exceptions in the language.\n",
    "\n",
    "Error Hierarchy: Python's exception system is built on a hierarchy of classes, with BaseException at the top, followed by Exception and other subclasses. By inheriting from Exception, your custom exception becomes part of this hierarchy, which helps in organizing and managing errors systematically.\n",
    "\n",
    "Exception Handling: When your custom exception inherits from Exception, it can be caught using standard try-except blocks. This allows for more flexible and powerful error handling.\n",
    "Traceback Information: Custom exceptions that inherit from Exception automatically include traceback information when raised. This makes debugging easier, as you get detailed information about where and why the error occurred.\n",
    "\n",
    "Compatibility: Some functions and libraries might expect exceptions to be subclasses of Exception. By inheriting from Exception, you ensure compatibility with such functions and libraries."
   ]
  },
  {
   "cell_type": "code",
   "execution_count": null,
   "id": "1275f0c5-ae78-48b3-ba1e-bb87c948d4fa",
   "metadata": {},
   "outputs": [],
   "source": [
    "#Question 2\n",
    "\n",
    "import builtins\n",
    "\n",
    "def print_exception_hierarchy(klass, indent=0):\n",
    "    \"\"\"Recursively print exception hierarchy.\"\"\"\n",
    "    print(' ' * indent + klass.__name__)\n",
    "    for subclass in klass.__subclasses__():\n",
    "        print_exception_hierarchy(subclass, indent + 2)\n",
    "\n",
    "# Start with the base exception class\n",
    "print_exception_hierarchy(BaseException)\n"
   ]
  },
  {
   "cell_type": "code",
   "execution_count": null,
   "id": "2d4d41fd-7815-45d4-85d7-21ae0e966a3e",
   "metadata": {},
   "outputs": [],
   "source": [
    "#Question 3\n",
    "\n",
    "The ArithmeticError class in Python serves as a base class for exceptions that occur during arithmetic operations. It itself is not directly raised, but it serves as a superclass for more specific arithmetic-related exceptions. Here are two specific exceptions that inherit from ArithmeticError along with examples:\n",
    "\n",
    "1. ZeroDivisionError\n",
    "Description: This exception is raised when a division or modulo operation is performed with a divisor of zero.\n",
    "\n",
    "try:\n",
    "    result = 10 / 0  # Attempting to divide by zero\n",
    "except ZeroDivisionError as e:\n",
    "    print(f\"Error: {e}\")\n"
   ]
  },
  {
   "cell_type": "code",
   "execution_count": null,
   "id": "74b1f5f9-4349-4544-8f02-8ce3615d18e3",
   "metadata": {},
   "outputs": [],
   "source": [
    "#Question 4\n",
    "\n",
    "The LookupError class in Python serves as a base class for exceptions that occur when a key or index used to access a mapping or sequence (respectively) is invalid. It is a superclass for more specific lookup-related exceptions. Let's delve into two specific exceptions that inherit from LookupError and illustrate them with examples:\n",
    "\n",
    "1. KeyError\n",
    "Description: Raised when a dictionary key is not found.\n",
    "\n",
    "my_dict = {'a': 1, 'b': 2, 'c': 3}\n",
    "\n",
    "try:\n",
    "    value = my_dict['d']  # Accessing a key that does not exist\n",
    "except KeyError as e:\n",
    "    print(f\"Error: {e}\")\n"
   ]
  },
  {
   "cell_type": "code",
   "execution_count": null,
   "id": "7a3ede96-6868-4b9a-aaec-a10ecf97f570",
   "metadata": {},
   "outputs": [],
   "source": [
    "#Question 5 \n",
    "\n",
    "In Python, ImportError and ModuleNotFoundError are both exceptions related to importing modules and packages. Let's explain each of these exceptions with examples:\n",
    "\n",
    "ImportError\n",
    "Description: ImportError is raised when an import statement fails to find the module definition or when a specific name cannot be found in the module.\n",
    "\n",
    "\n",
    "ModuleNotFoundError\n",
    "Description: ModuleNotFoundError is a subclass of ImportError introduced in Python 3.6. It specifically indicates that the module you are trying to import could not be found.\n"
   ]
  },
  {
   "cell_type": "code",
   "execution_count": null,
   "id": "e59d50b4-435f-4745-a390-77d3e9f786f6",
   "metadata": {},
   "outputs": [],
   "source": [
    "#Question 6\n",
    "\n",
    "Exception handling in Python is crucial for writing robust and maintainable code. Here are some best practices for exception handling in Python:\n",
    "    \n",
    "    \n",
    "    "
   ]
  }
 ],
 "metadata": {
  "kernelspec": {
   "display_name": "Python 3 (ipykernel)",
   "language": "python",
   "name": "python3"
  },
  "language_info": {
   "codemirror_mode": {
    "name": "ipython",
    "version": 3
   },
   "file_extension": ".py",
   "mimetype": "text/x-python",
   "name": "python",
   "nbconvert_exporter": "python",
   "pygments_lexer": "ipython3",
   "version": "3.10.8"
  }
 },
 "nbformat": 4,
 "nbformat_minor": 5
}
